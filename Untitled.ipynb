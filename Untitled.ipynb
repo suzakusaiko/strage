{
 "cells": [
  {
   "cell_type": "code",
   "execution_count": 3,
   "metadata": {},
   "outputs": [
    {
     "name": "stdout",
     "output_type": "stream",
     "text": [
      "    hotel_id  price_max  price_min     price_mean  price_median  price_20per\n",
      "0        h_1     208800      26100  112230.000000        104400        73080\n",
      "1       h_10      67200      11200   42933.333333         50400        26880\n",
      "2      h_100      57600       4800   27600.000000         28800         9600\n",
      "3      h_101     168000      14000   75764.705882         56000        30800\n",
      "4      h_102      72000      12000   32769.230769         24000        18000\n",
      "..       ...        ...        ...            ...           ...          ...\n",
      "295     h_95     518400      43200  275815.384615        259200       146880\n",
      "296     h_96      66600       7400   33015.384615         29600        17760\n",
      "297     h_97     250800      20900   83600.000000         62700        20900\n",
      "298     h_98     226800      18900   96723.529412         75600        56700\n",
      "299     h_99     268800      44800  128000.000000         89600        67200\n",
      "\n",
      "[300 rows x 6 columns]\n"
     ]
    }
   ],
   "source": [
    "from preprocess.load_data.data_loader import load_hotel_reserve\n",
    "import numpy as np\n",
    "customer_tb, hotel_tb, reserve_tb = load_hotel_reserve()\n",
    "\n",
    "# 下の行から本書スタート\n",
    "# total_priceを対象にmax/min/mean/median関数を適用\n",
    "# Pythonのラムダ式をagg関数の集約処理に指定\n",
    "# ラムダ式にはnumpy.percentileを指定しパーセントタイル値を算出（パーセントは20指定）\n",
    "result = reserve_tb \\\n",
    "  .groupby('hotel_id') \\\n",
    "  .agg({'total_price': ['max', 'min', 'mean', 'median',\n",
    "                        lambda x: np.percentile(x, q=20)]}) \\\n",
    "  .reset_index()\n",
    "result.columns = ['hotel_id', 'price_max', 'price_min', 'price_mean',\n",
    "                  'price_median', 'price_20per']\n",
    "\n",
    "\n",
    "print(result)"
   ]
  },
  {
   "cell_type": "code",
   "execution_count": null,
   "metadata": {},
   "outputs": [],
   "source": []
  }
 ],
 "metadata": {
  "kernelspec": {
   "display_name": "Python 3",
   "language": "python",
   "name": "python3"
  },
  "language_info": {
   "codemirror_mode": {
    "name": "ipython",
    "version": 3
   },
   "file_extension": ".py",
   "mimetype": "text/x-python",
   "name": "python",
   "nbconvert_exporter": "python",
   "pygments_lexer": "ipython3",
   "version": "3.7.7"
  }
 },
 "nbformat": 4,
 "nbformat_minor": 4
}
